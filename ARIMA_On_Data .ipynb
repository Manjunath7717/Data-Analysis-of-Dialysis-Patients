{
 "cells": [
  {
   "cell_type": "code",
   "execution_count": 1,
   "metadata": {},
   "outputs": [],
   "source": [
    "import numpy as np\n",
    "from numpy import sqrt,mean,log,diff\n",
    "import matplotlib.pyplot as plt\n",
    "import pandas as pd"
   ]
  },
  {
   "cell_type": "code",
   "execution_count": 2,
   "metadata": {},
   "outputs": [
    {
     "name": "stdout",
     "output_type": "stream",
     "text": [
      "         ID  DialysisScheduleId PatientNumber     FirstName  MiddleName  \\\n",
      "0   3826274                4485         16897  Jagtambidevi   Shersingh   \n",
      "1   3826275                4485         16897  Jagtambidevi   Shersingh   \n",
      "2   3826276                4485         16897  Jagtambidevi   Shersingh   \n",
      "3   3826277                4485         16897  Jagtambidevi   Shersingh   \n",
      "4   3826278                4485         16897  Jagtambidevi   Shersingh   \n",
      "5   3826279                4485         16897  Jagtambidevi   Shersingh   \n",
      "6   3826280                4485         16897  Jagtambidevi   Shersingh   \n",
      "7   3826281                4485         16897  Jagtambidevi   Shersingh   \n",
      "8   3826282                4485         16897  Jagtambidevi   Shersingh   \n",
      "9   3826283                4485         16897  Jagtambidevi   Shersingh   \n",
      "10  3826284                4485         16897  Jagtambidevi   Shersingh   \n",
      "11  3826285                4485         16897  Jagtambidevi   Shersingh   \n",
      "12  3838991                4545         41161        Pratap  Ramchandra   \n",
      "13  3838992                4545         41161        Pratap  Ramchandra   \n",
      "14  3838993                4545         41161        Pratap  Ramchandra   \n",
      "15  3838994                4545         41161        Pratap  Ramchandra   \n",
      "16  3838995                4545         41161        Pratap  Ramchandra   \n",
      "17  3838996                4545         41161        Pratap  Ramchandra   \n",
      "18  3838997                4545         41161        Pratap  Ramchandra   \n",
      "19  3838998                4545         41161        Pratap  Ramchandra   \n",
      "20  3838999                4545         41161        Pratap  Ramchandra   \n",
      "21  3839000                4545         41161        Pratap  Ramchandra   \n",
      "22  3839001                4545         41161        Pratap  Ramchandra   \n",
      "23  3839002                4545         41161        Pratap  Ramchandra   \n",
      "24  3832581                4488         35799         Anita        Anil   \n",
      "25  3832582                4488         35799         Anita        Anil   \n",
      "26  3832583                4488         35799         Anita        Anil   \n",
      "27  3832584                4488         35799         Anita        Anil   \n",
      "28  3832585                4488         35799         Anita        Anil   \n",
      "29  3832586                4488         35799         Anita        Anil   \n",
      "30  3832587                4488         35799         Anita        Anil   \n",
      "31  3832588                4488         35799         Anita        Anil   \n",
      "32  3832589                4488         35799         Anita        Anil   \n",
      "33  3832590                4488         35799         Anita        Anil   \n",
      "34  3832591                4488         35799         Anita        Anil   \n",
      "35  3832592                4488         35799         Anita        Anil   \n",
      "36  3826286                4485         16897  Jagtambidevi   Shersingh   \n",
      "37  3826287                4485         16897  Jagtambidevi   Shersingh   \n",
      "38  3826288                4485         16897  Jagtambidevi   Shersingh   \n",
      "39  3826289                4485         16897  Jagtambidevi   Shersingh   \n",
      "40  3826290                4485         16897  Jagtambidevi   Shersingh   \n",
      "41  3826291                4485         16897  Jagtambidevi   Shersingh   \n",
      "42  3826292                4485         16897  Jagtambidevi   Shersingh   \n",
      "43  3826293                4485         16897  Jagtambidevi   Shersingh   \n",
      "44  3826294                4485         16897  Jagtambidevi   Shersingh   \n",
      "45  3826295                4485         16897  Jagtambidevi   Shersingh   \n",
      "46  3826296                4485         16897  Jagtambidevi   Shersingh   \n",
      "47  3826297                4485         16897  Jagtambidevi   Shersingh   \n",
      "48  3832593                4488         35799         Anita        Anil   \n",
      "49  3832594                4488         35799         Anita        Anil   \n",
      "\n",
      "     LastName            BillNo  DialysisDataId  LastUpdateTimeStamp  \\\n",
      "0   Chaudhary  RC01/S6991/18-19           31187  2019-03-16 07:59:39   \n",
      "1   Chaudhary  RC01/S6991/18-19           31200  2019-03-16 07:59:41   \n",
      "2   Chaudhary  RC01/S6991/18-19           31210  2019-03-16 07:59:43   \n",
      "3   Chaudhary  RC01/S6991/18-19           31223  2019-03-16 07:59:45   \n",
      "4   Chaudhary  RC01/S6991/18-19           31236  2019-03-16 07:59:47   \n",
      "5   Chaudhary  RC01/S6991/18-19           31249  2019-03-16 07:59:49   \n",
      "6   Chaudhary  RC01/S6991/18-19           31262  2019-03-16 07:59:51   \n",
      "7   Chaudhary  RC01/S6991/18-19           31275  2019-03-16 07:59:53   \n",
      "8   Chaudhary  RC01/S6991/18-19           31288  2019-03-16 07:59:55   \n",
      "9   Chaudhary  RC01/S6991/18-19           31299  2019-03-16 07:59:57   \n",
      "10  Chaudhary  RC01/S6991/18-19           31312  2019-03-16 07:59:59   \n",
      "11  Chaudhary  RC01/S6991/18-19           31326  2019-03-16 08:00:01   \n",
      "12      Pawar  RC01/S6996/18-19          245093  2019-03-16 11:55:28   \n",
      "13      Pawar  RC01/S6996/18-19          245145  2019-03-16 11:55:30   \n",
      "14      Pawar  RC01/S6996/18-19          245201  2019-03-16 11:55:32   \n",
      "15      Pawar  RC01/S6996/18-19          245257  2019-03-16 11:55:34   \n",
      "16      Pawar  RC01/S6996/18-19          245311  2019-03-16 11:55:36   \n",
      "17      Pawar  RC01/S6996/18-19          245368  2019-03-16 11:55:38   \n",
      "18      Pawar  RC01/S6996/18-19          245424  2019-03-16 11:55:40   \n",
      "19      Pawar  RC01/S6996/18-19          245479  2019-03-16 11:55:42   \n",
      "20      Pawar  RC01/S6996/18-19          245538  2019-03-16 11:55:44   \n",
      "21      Pawar  RC01/S6996/18-19          245567  2019-03-16 11:55:46   \n",
      "22      Pawar  RC01/S6996/18-19          245622  2019-03-16 11:55:48   \n",
      "23      Pawar  RC01/S6996/18-19          245674  2019-03-16 11:55:50   \n",
      "24       Raut  RC01/S6987/18-19           38860  2019-03-16 08:12:43   \n",
      "25       Raut  RC01/S6987/18-19           38885  2019-03-16 08:12:45   \n",
      "26       Raut  RC01/S6987/18-19           38911  2019-03-16 08:12:47   \n",
      "27       Raut  RC01/S6987/18-19           38937  2019-03-16 08:12:49   \n",
      "28       Raut  RC01/S6987/18-19           38963  2019-03-16 08:12:51   \n",
      "29       Raut  RC01/S6987/18-19           38988  2019-03-16 08:12:53   \n",
      "30       Raut  RC01/S6987/18-19           39014  2019-03-16 08:12:55   \n",
      "31       Raut  RC01/S6987/18-19           39021  2019-03-16 08:12:57   \n",
      "32       Raut  RC01/S6987/18-19           39046  2019-03-16 08:12:59   \n",
      "33       Raut  RC01/S6987/18-19           39071  2019-03-16 08:13:01   \n",
      "34       Raut  RC01/S6987/18-19           39096  2019-03-16 08:13:03   \n",
      "35       Raut  RC01/S6987/18-19           39122  2019-03-16 08:13:05   \n",
      "36  Chaudhary  RC01/S6991/18-19           31341  2019-03-16 08:00:03   \n",
      "37  Chaudhary  RC01/S6991/18-19           31357  2019-03-16 08:00:05   \n",
      "38  Chaudhary  RC01/S6991/18-19           31370  2019-03-16 08:00:07   \n",
      "39  Chaudhary  RC01/S6991/18-19           31383  2019-03-16 08:00:09   \n",
      "40  Chaudhary  RC01/S6991/18-19           31396  2019-03-16 08:00:11   \n",
      "41  Chaudhary  RC01/S6991/18-19           31408  2019-03-16 08:00:13   \n",
      "42  Chaudhary  RC01/S6991/18-19           31421  2019-03-16 08:00:15   \n",
      "43  Chaudhary  RC01/S6991/18-19           31435  2019-03-16 08:00:17   \n",
      "44  Chaudhary  RC01/S6991/18-19           31447  2019-03-16 08:00:20   \n",
      "45  Chaudhary  RC01/S6991/18-19           31459  2019-03-16 08:00:22   \n",
      "46  Chaudhary  RC01/S6991/18-19           31473  2019-03-16 08:00:24   \n",
      "47  Chaudhary  RC01/S6991/18-19           31487  2019-03-16 08:00:26   \n",
      "48       Raut  RC01/S6987/18-19           39148  2019-03-16 08:13:07   \n",
      "49       Raut  RC01/S6987/18-19           39173  2019-03-16 08:13:09   \n",
      "\n",
      "       Status  ...  TTime      BP  CKTV  TKTV  BFAvg  AlarmCode  AlarmType  \\\n",
      "0   Treatment  ...  03:40  136/64   0.7   1.2    0.0        NaN          0   \n",
      "1   Treatment  ...  03:40  136/64   0.7   1.2    0.0        NaN          0   \n",
      "2   Treatment  ...  03:40  136/64   0.7   1.2    0.0        NaN          0   \n",
      "3   Treatment  ...  03:40  136/64   0.7   1.2    0.0        NaN          0   \n",
      "4   Treatment  ...  03:40  136/64   0.7   1.2    0.0        NaN          0   \n",
      "5   Treatment  ...  03:40  136/64   0.7   1.2    0.0        NaN          0   \n",
      "6   Treatment  ...  03:40  136/64   0.7   1.2    0.0        NaN          0   \n",
      "7   Treatment  ...  03:40  136/64   0.7   1.2    0.0        NaN          0   \n",
      "8   Treatment  ...  03:40  136/64   0.7   1.2    0.0        NaN          0   \n",
      "9   Treatment  ...  03:40  136/64   0.7   1.2    0.0        NaN          0   \n",
      "10  Treatment  ...  03:40  136/64   0.7   1.2    0.0        NaN          0   \n",
      "11  Treatment  ...  03:40  136/64   0.7   1.2    0.0        NaN          0   \n",
      "12  Treatment  ...  03:45  124/64   0.4   1.2    0.0        NaN          0   \n",
      "13  Treatment  ...  03:45  124/64   0.4   1.2    0.0        NaN          0   \n",
      "14  Treatment  ...  03:45  124/64   0.4   1.2    0.0        NaN          0   \n",
      "15  Treatment  ...  03:45  124/64   0.4   1.2    0.0        NaN          0   \n",
      "16  Treatment  ...  03:45  124/64   0.4   1.2    0.0        NaN          0   \n",
      "17  Treatment  ...  03:45  124/64   0.4   1.2    0.0        NaN          0   \n",
      "18  Treatment  ...  03:45  124/64   0.4   1.2    0.0        NaN          0   \n",
      "19  Treatment  ...  03:45  124/64   0.4   1.2    0.0        NaN          0   \n",
      "20  Treatment  ...  03:45  124/64   0.4   1.2    0.0        NaN          0   \n",
      "21  Treatment  ...  03:45  124/64   0.4   1.2    0.0        NaN          0   \n",
      "22  Treatment  ...  03:45  124/64   0.4   1.2    0.0        NaN          0   \n",
      "23  Treatment  ...  03:45  124/64   0.4   1.2    0.0        NaN          0   \n",
      "24  Treatment  ...  03:30  155/94   0.7   1.2    0.0        NaN          0   \n",
      "25  Treatment  ...  03:30  155/94   0.7   1.2    0.0        NaN          0   \n",
      "26  Treatment  ...  03:30  155/94   0.7   1.2    0.0        NaN          0   \n",
      "27  Treatment  ...  03:30  155/94   0.7   1.2    0.0        NaN          0   \n",
      "28  Treatment  ...  03:30  155/94   0.7   1.2    0.0        NaN          0   \n",
      "29  Treatment  ...  03:30  155/94   0.7   1.2    0.0        NaN          0   \n",
      "30  Treatment  ...  03:30  155/94   0.7   1.2    0.0        NaN          0   \n",
      "31  Treatment  ...  03:30  155/94   0.7   1.2    0.0        NaN          0   \n",
      "32  Treatment  ...  03:30  155/94   0.7   1.2    0.0        NaN          0   \n",
      "33  Treatment  ...  03:30  155/94   0.7   1.2    0.0        NaN          0   \n",
      "34  Treatment  ...  03:30  155/94   0.7   1.2    0.0        NaN          0   \n",
      "35  Treatment  ...  03:30  155/94   0.7   1.2    0.0        NaN          0   \n",
      "36  Treatment  ...  03:40  136/64   0.7   1.2    0.0        NaN          0   \n",
      "37  Treatment  ...  03:40  136/64   0.7   1.2    0.0        NaN          0   \n",
      "38  Treatment  ...  03:40  136/64   0.7   1.2    0.0        NaN          0   \n",
      "39  Treatment  ...  03:40  136/64   0.7   1.2    0.0        NaN          0   \n",
      "40  Treatment  ...  03:40  136/64   0.7   1.2    0.0        NaN          0   \n",
      "41  Treatment  ...  03:40  136/64   0.7   1.2    0.0        NaN          0   \n",
      "42  Treatment  ...  03:40  136/64   0.7   1.2    0.0        NaN          0   \n",
      "43  Treatment  ...  03:40  136/64   0.7   1.2    0.0        NaN          0   \n",
      "44  Treatment  ...  03:40  136/64   0.7   1.2    0.0        NaN          0   \n",
      "45  Treatment  ...  03:40  136/64   0.7   1.2    0.0        NaN          0   \n",
      "46  Treatment  ...  03:40  136/64   0.7   1.2    0.0        NaN          0   \n",
      "47  Treatment  ...  03:40  136/64   0.7   1.2    0.0        NaN          0   \n",
      "48  Treatment  ...  03:30  155/94   0.7   1.2    0.0        NaN          0   \n",
      "49  Treatment  ...  03:30  155/94   0.7   1.2    0.0        NaN          0   \n",
      "\n",
      "                        AddedDate  SerialNumber  NiproMachineName  \n",
      "0   2019-03-16 22:00:00.600000000      15CX2558             CRC 6  \n",
      "1   2019-03-16 22:00:00.600000000      15CX2558             CRC 6  \n",
      "2   2019-03-16 22:00:00.600000000      15CX2558             CRC 6  \n",
      "3   2019-03-16 22:00:00.600000000      15CX2558             CRC 6  \n",
      "4   2019-03-16 22:00:00.600000000      15CX2558             CRC 6  \n",
      "5   2019-03-16 22:00:00.600000000      15CX2558             CRC 6  \n",
      "6   2019-03-16 22:00:00.600000000      15CX2558             CRC 6  \n",
      "7   2019-03-16 22:00:00.600000000      15CX2558             CRC 6  \n",
      "8   2019-03-16 22:00:00.600000000      15CX2558             CRC 6  \n",
      "9   2019-03-16 22:00:00.600000000      15CX2558             CRC 6  \n",
      "10  2019-03-16 22:00:00.600000000      15CX2558             CRC 6  \n",
      "11  2019-03-16 22:00:00.600000000      15CX2558             CRC 6  \n",
      "12  2019-03-16 22:00:00.600000000      16CX5148             CRC 3  \n",
      "13  2019-03-16 22:00:00.600000000      16CX5148             CRC 3  \n",
      "14  2019-03-16 22:00:00.600000000      16CX5148             CRC 3  \n",
      "15  2019-03-16 22:00:00.600000000      16CX5148             CRC 3  \n",
      "16  2019-03-16 22:00:00.600000000      16CX5148             CRC 3  \n",
      "17  2019-03-16 22:00:00.600000000      16CX5148             CRC 3  \n",
      "18  2019-03-16 22:00:00.600000000      16CX5148             CRC 3  \n",
      "19  2019-03-16 22:00:00.600000000      16CX5148             CRC 3  \n",
      "20  2019-03-16 22:00:00.600000000      16CX5148             CRC 3  \n",
      "21  2019-03-16 22:00:00.600000000      16CX5148             CRC 3  \n",
      "22  2019-03-16 22:00:00.600000000      16CX5148             CRC 3  \n",
      "23  2019-03-16 22:00:00.600000000      16CX5148             CRC 3  \n",
      "24  2019-03-16 22:00:00.600000000      15CX2537             CRC 5  \n",
      "25  2019-03-16 22:00:00.600000000      15CX2537             CRC 5  \n",
      "26  2019-03-16 22:00:00.600000000      15CX2537             CRC 5  \n",
      "27  2019-03-16 22:00:00.600000000      15CX2537             CRC 5  \n",
      "28  2019-03-16 22:00:00.600000000      15CX2537             CRC 5  \n",
      "29  2019-03-16 22:00:00.600000000      15CX2537             CRC 5  \n",
      "30  2019-03-16 22:00:00.600000000      15CX2537             CRC 5  \n",
      "31  2019-03-16 22:00:00.600000000      15CX2537             CRC 5  \n",
      "32  2019-03-16 22:00:00.600000000      15CX2537             CRC 5  \n",
      "33  2019-03-16 22:00:00.600000000      15CX2537             CRC 5  \n",
      "34  2019-03-16 22:00:00.600000000      15CX2537             CRC 5  \n",
      "35  2019-03-16 22:00:00.600000000      15CX2537             CRC 5  \n",
      "36  2019-03-16 22:00:00.600000000      15CX2558             CRC 6  \n",
      "37  2019-03-16 22:00:00.600000000      15CX2558             CRC 6  \n",
      "38  2019-03-16 22:00:00.600000000      15CX2558             CRC 6  \n",
      "39  2019-03-16 22:00:00.600000000      15CX2558             CRC 6  \n",
      "40  2019-03-16 22:00:00.600000000      15CX2558             CRC 6  \n",
      "41  2019-03-16 22:00:00.600000000      15CX2558             CRC 6  \n",
      "42  2019-03-16 22:00:00.600000000      15CX2558             CRC 6  \n",
      "43  2019-03-16 22:00:00.600000000      15CX2558             CRC 6  \n",
      "44  2019-03-16 22:00:00.600000000      15CX2558             CRC 6  \n",
      "45  2019-03-16 22:00:00.600000000      15CX2558             CRC 6  \n",
      "46  2019-03-16 22:00:00.600000000      15CX2558             CRC 6  \n",
      "47  2019-03-16 22:00:00.600000000      15CX2558             CRC 6  \n",
      "48  2019-03-16 22:00:00.600000000      15CX2537             CRC 5  \n",
      "49  2019-03-16 22:00:00.600000000      15CX2537             CRC 5  \n",
      "\n",
      "[50 rows x 49 columns]\n",
      "ID                       int64\n",
      "DialysisScheduleId       int64\n",
      "PatientNumber           object\n",
      "FirstName               object\n",
      "MiddleName              object\n",
      "LastName                object\n",
      "BillNo                  object\n",
      "DialysisDataId           int64\n",
      "LastUpdateTimeStamp     object\n",
      "Status                  object\n",
      "TreatmentType           object\n",
      "Bypass                  object\n",
      "Dflow                    int64\n",
      "BpFlow                   int64\n",
      "TBVol                  float64\n",
      "WBCond                 float64\n",
      "DIPPG2                   int64\n",
      "DIPPG3                   int64\n",
      "Apress                   int64\n",
      "DIPPG4                   int64\n",
      "Vpress                   int64\n",
      "SNPress                  int64\n",
      "AUFSpeed               float64\n",
      "PUFRem                 float64\n",
      "RTime                   object\n",
      "PTime                   object\n",
      "TrTime                  object\n",
      "EstFTime                object\n",
      "BPSyst                 float64\n",
      "BPDia                  float64\n",
      "Hrate                  float64\n",
      "SPSpeed                float64\n",
      "IVSPump                float64\n",
      "THour                   object\n",
      "TotCond                float64\n",
      "Temp                   float64\n",
      "TMP                    float64\n",
      "TUFSpeed               float64\n",
      "TUfGoal                float64\n",
      "TTime                   object\n",
      "BP                      object\n",
      "CKTV                   float64\n",
      "TKTV                   float64\n",
      "BFAvg                  float64\n",
      "AlarmCode              float64\n",
      "AlarmType                int64\n",
      "AddedDate               object\n",
      "SerialNumber            object\n",
      "NiproMachineName        object\n",
      "dtype: object\n"
     ]
    },
    {
     "name": "stderr",
     "output_type": "stream",
     "text": [
      "/Users/manjunathvhatkar/anaconda3/lib/python3.7/site-packages/IPython/core/interactiveshell.py:3057: DtypeWarning: Columns (2) have mixed types. Specify dtype option on import or set low_memory=False.\n",
      "  interactivity=interactivity, compiler=compiler, result=result)\n"
     ]
    }
   ],
   "source": [
    "import pandas as pd\n",
    "import numpy as np\n",
    "import matplotlib.pylab as plt\n",
    "from matplotlib.pylab import rcParams\n",
    "rcParams['figure.figsize'] = 15, 6\n",
    "data = pd.read_csv('Nipro16032019.csv')\n",
    "print (data.head(50))\n",
    "print (data.dtypes)\n",
    "#dateparse = lambda dates: pd.datetime.strptime(dates, '%D/%m/%Y')\n",
    "#data = pd.read_csv('N.csv', parse_dates=['Date'], index_col='Date',date_parser=dateparse)\n",
    "#print (data.head())\n",
    "#print(data.index)"
   ]
  },
  {
   "cell_type": "code",
   "execution_count": 3,
   "metadata": {},
   "outputs": [],
   "source": [
    "#data=pd.read_csv('Nipro16032019.csv')"
   ]
  },
  {
   "cell_type": "code",
   "execution_count": 4,
   "metadata": {},
   "outputs": [
    {
     "data": {
      "text/html": [
       "<div>\n",
       "<style scoped>\n",
       "    .dataframe tbody tr th:only-of-type {\n",
       "        vertical-align: middle;\n",
       "    }\n",
       "\n",
       "    .dataframe tbody tr th {\n",
       "        vertical-align: top;\n",
       "    }\n",
       "\n",
       "    .dataframe thead th {\n",
       "        text-align: right;\n",
       "    }\n",
       "</style>\n",
       "<table border=\"1\" class=\"dataframe\">\n",
       "  <thead>\n",
       "    <tr style=\"text-align: right;\">\n",
       "      <th></th>\n",
       "      <th>ID</th>\n",
       "      <th>DialysisScheduleId</th>\n",
       "      <th>PatientNumber</th>\n",
       "      <th>FirstName</th>\n",
       "      <th>MiddleName</th>\n",
       "      <th>LastName</th>\n",
       "      <th>BillNo</th>\n",
       "      <th>DialysisDataId</th>\n",
       "      <th>LastUpdateTimeStamp</th>\n",
       "      <th>Status</th>\n",
       "      <th>...</th>\n",
       "      <th>TTime</th>\n",
       "      <th>BP</th>\n",
       "      <th>CKTV</th>\n",
       "      <th>TKTV</th>\n",
       "      <th>BFAvg</th>\n",
       "      <th>AlarmCode</th>\n",
       "      <th>AlarmType</th>\n",
       "      <th>AddedDate</th>\n",
       "      <th>SerialNumber</th>\n",
       "      <th>NiproMachineName</th>\n",
       "    </tr>\n",
       "  </thead>\n",
       "  <tbody>\n",
       "    <tr>\n",
       "      <th>0</th>\n",
       "      <td>3826274</td>\n",
       "      <td>4485</td>\n",
       "      <td>16897</td>\n",
       "      <td>Jagtambidevi</td>\n",
       "      <td>Shersingh</td>\n",
       "      <td>Chaudhary</td>\n",
       "      <td>RC01/S6991/18-19</td>\n",
       "      <td>31187</td>\n",
       "      <td>2019-03-16 07:59:39</td>\n",
       "      <td>Treatment</td>\n",
       "      <td>...</td>\n",
       "      <td>03:40</td>\n",
       "      <td>136/64</td>\n",
       "      <td>0.7</td>\n",
       "      <td>1.2</td>\n",
       "      <td>0.0</td>\n",
       "      <td>NaN</td>\n",
       "      <td>0</td>\n",
       "      <td>2019-03-16 22:00:00.600000000</td>\n",
       "      <td>15CX2558</td>\n",
       "      <td>CRC 6</td>\n",
       "    </tr>\n",
       "    <tr>\n",
       "      <th>1</th>\n",
       "      <td>3826275</td>\n",
       "      <td>4485</td>\n",
       "      <td>16897</td>\n",
       "      <td>Jagtambidevi</td>\n",
       "      <td>Shersingh</td>\n",
       "      <td>Chaudhary</td>\n",
       "      <td>RC01/S6991/18-19</td>\n",
       "      <td>31200</td>\n",
       "      <td>2019-03-16 07:59:41</td>\n",
       "      <td>Treatment</td>\n",
       "      <td>...</td>\n",
       "      <td>03:40</td>\n",
       "      <td>136/64</td>\n",
       "      <td>0.7</td>\n",
       "      <td>1.2</td>\n",
       "      <td>0.0</td>\n",
       "      <td>NaN</td>\n",
       "      <td>0</td>\n",
       "      <td>2019-03-16 22:00:00.600000000</td>\n",
       "      <td>15CX2558</td>\n",
       "      <td>CRC 6</td>\n",
       "    </tr>\n",
       "    <tr>\n",
       "      <th>2</th>\n",
       "      <td>3826276</td>\n",
       "      <td>4485</td>\n",
       "      <td>16897</td>\n",
       "      <td>Jagtambidevi</td>\n",
       "      <td>Shersingh</td>\n",
       "      <td>Chaudhary</td>\n",
       "      <td>RC01/S6991/18-19</td>\n",
       "      <td>31210</td>\n",
       "      <td>2019-03-16 07:59:43</td>\n",
       "      <td>Treatment</td>\n",
       "      <td>...</td>\n",
       "      <td>03:40</td>\n",
       "      <td>136/64</td>\n",
       "      <td>0.7</td>\n",
       "      <td>1.2</td>\n",
       "      <td>0.0</td>\n",
       "      <td>NaN</td>\n",
       "      <td>0</td>\n",
       "      <td>2019-03-16 22:00:00.600000000</td>\n",
       "      <td>15CX2558</td>\n",
       "      <td>CRC 6</td>\n",
       "    </tr>\n",
       "    <tr>\n",
       "      <th>3</th>\n",
       "      <td>3826277</td>\n",
       "      <td>4485</td>\n",
       "      <td>16897</td>\n",
       "      <td>Jagtambidevi</td>\n",
       "      <td>Shersingh</td>\n",
       "      <td>Chaudhary</td>\n",
       "      <td>RC01/S6991/18-19</td>\n",
       "      <td>31223</td>\n",
       "      <td>2019-03-16 07:59:45</td>\n",
       "      <td>Treatment</td>\n",
       "      <td>...</td>\n",
       "      <td>03:40</td>\n",
       "      <td>136/64</td>\n",
       "      <td>0.7</td>\n",
       "      <td>1.2</td>\n",
       "      <td>0.0</td>\n",
       "      <td>NaN</td>\n",
       "      <td>0</td>\n",
       "      <td>2019-03-16 22:00:00.600000000</td>\n",
       "      <td>15CX2558</td>\n",
       "      <td>CRC 6</td>\n",
       "    </tr>\n",
       "    <tr>\n",
       "      <th>4</th>\n",
       "      <td>3826278</td>\n",
       "      <td>4485</td>\n",
       "      <td>16897</td>\n",
       "      <td>Jagtambidevi</td>\n",
       "      <td>Shersingh</td>\n",
       "      <td>Chaudhary</td>\n",
       "      <td>RC01/S6991/18-19</td>\n",
       "      <td>31236</td>\n",
       "      <td>2019-03-16 07:59:47</td>\n",
       "      <td>Treatment</td>\n",
       "      <td>...</td>\n",
       "      <td>03:40</td>\n",
       "      <td>136/64</td>\n",
       "      <td>0.7</td>\n",
       "      <td>1.2</td>\n",
       "      <td>0.0</td>\n",
       "      <td>NaN</td>\n",
       "      <td>0</td>\n",
       "      <td>2019-03-16 22:00:00.600000000</td>\n",
       "      <td>15CX2558</td>\n",
       "      <td>CRC 6</td>\n",
       "    </tr>\n",
       "  </tbody>\n",
       "</table>\n",
       "<p>5 rows × 49 columns</p>\n",
       "</div>"
      ],
      "text/plain": [
       "        ID  DialysisScheduleId PatientNumber     FirstName MiddleName  \\\n",
       "0  3826274                4485         16897  Jagtambidevi  Shersingh   \n",
       "1  3826275                4485         16897  Jagtambidevi  Shersingh   \n",
       "2  3826276                4485         16897  Jagtambidevi  Shersingh   \n",
       "3  3826277                4485         16897  Jagtambidevi  Shersingh   \n",
       "4  3826278                4485         16897  Jagtambidevi  Shersingh   \n",
       "\n",
       "    LastName            BillNo  DialysisDataId  LastUpdateTimeStamp  \\\n",
       "0  Chaudhary  RC01/S6991/18-19           31187  2019-03-16 07:59:39   \n",
       "1  Chaudhary  RC01/S6991/18-19           31200  2019-03-16 07:59:41   \n",
       "2  Chaudhary  RC01/S6991/18-19           31210  2019-03-16 07:59:43   \n",
       "3  Chaudhary  RC01/S6991/18-19           31223  2019-03-16 07:59:45   \n",
       "4  Chaudhary  RC01/S6991/18-19           31236  2019-03-16 07:59:47   \n",
       "\n",
       "      Status  ...  TTime      BP  CKTV  TKTV  BFAvg  AlarmCode  AlarmType  \\\n",
       "0  Treatment  ...  03:40  136/64   0.7   1.2    0.0        NaN          0   \n",
       "1  Treatment  ...  03:40  136/64   0.7   1.2    0.0        NaN          0   \n",
       "2  Treatment  ...  03:40  136/64   0.7   1.2    0.0        NaN          0   \n",
       "3  Treatment  ...  03:40  136/64   0.7   1.2    0.0        NaN          0   \n",
       "4  Treatment  ...  03:40  136/64   0.7   1.2    0.0        NaN          0   \n",
       "\n",
       "                       AddedDate  SerialNumber  NiproMachineName  \n",
       "0  2019-03-16 22:00:00.600000000      15CX2558             CRC 6  \n",
       "1  2019-03-16 22:00:00.600000000      15CX2558             CRC 6  \n",
       "2  2019-03-16 22:00:00.600000000      15CX2558             CRC 6  \n",
       "3  2019-03-16 22:00:00.600000000      15CX2558             CRC 6  \n",
       "4  2019-03-16 22:00:00.600000000      15CX2558             CRC 6  \n",
       "\n",
       "[5 rows x 49 columns]"
      ]
     },
     "execution_count": 4,
     "metadata": {},
     "output_type": "execute_result"
    }
   ],
   "source": [
    "data.head()"
   ]
  },
  {
   "cell_type": "code",
   "execution_count": 5,
   "metadata": {},
   "outputs": [],
   "source": [
    "#print(data.head())\n",
    "#print (data.dtypes)\n",
    "new_dict = {}"
   ]
  },
  {
   "cell_type": "code",
   "execution_count": 6,
   "metadata": {},
   "outputs": [
    {
     "name": "stdout",
     "output_type": "stream",
     "text": [
      "number: 10140   group size : 10\n",
      "number: 11711   group size : 8\n",
      "number: 12550   group size : 2300\n",
      "number: 12972   group size : 3810\n",
      "number: 13302   group size : 3811\n",
      "number: 16404   group size : 9\n",
      "number: 16457   group size : 13\n",
      "number: 16801   group size : 24\n",
      "number: 16897   group size : 2299\n",
      "number: 17325   group size : 13\n",
      "number: 18594   group size : 12\n",
      "number: 18762   group size : 3573\n",
      "number: 20131   group size : 3811\n",
      "number: 20801   group size : 9\n",
      "number: 22784   group size : 2299\n",
      "number: 23857   group size : 3811\n",
      "number: 24233   group size : 4486\n",
      "number: 25010   group size : 13\n",
      "number: 25478   group size : 3811\n",
      "number: 27271   group size : 3811\n",
      "number: 30986   group size : 10\n",
      "number: 31431   group size : 3810\n",
      "number: 32803   group size : 14\n",
      "number: 32922   group size : 3810\n",
      "number: 34692   group size : 9\n",
      "number: 35443   group size : 14\n",
      "number: 35799   group size : 1672\n",
      "number: 36770   group size : 3553\n",
      "number: 36792   group size : 14\n",
      "number: 37763   group size : 15\n",
      "number: 37789   group size : 15\n",
      "number: 37861   group size : 14\n",
      "number: 38146   group size : 14\n",
      "number: 38181   group size : 16\n",
      "number: 38649   group size : 16\n",
      "number: 38682   group size : 16\n",
      "number: 38708   group size : 16\n",
      "number: 38726   group size : 11\n",
      "number: 38777   group size : 14\n",
      "number: 38800   group size : 16\n",
      "number: 39007   group size : 13\n",
      "number: 39041   group size : 15\n",
      "number: 39147   group size : 13\n",
      "number: 39180   group size : 16\n",
      "number: 39208   group size : 16\n",
      "number: 39237   group size : 13\n",
      "number: 39249   group size : 13\n",
      "number: 39348   group size : 16\n",
      "number: 39491   group size : 3811\n",
      "number: 39664   group size : 8\n",
      "number: 39710   group size : 13\n",
      "number: 39899   group size : 14\n",
      "number: 39921   group size : 15\n",
      "number: 39928   group size : 15\n",
      "number: 39931   group size : 14\n",
      "number: 39957   group size : 15\n",
      "number: 39970   group size : 16\n",
      "number: 39973   group size : 14\n",
      "number: 40037   group size : 14\n",
      "number: 40081   group size : 17\n",
      "number: 40256   group size : 12\n",
      "number: 40323   group size : 16\n",
      "number: 40339   group size : 11\n",
      "number: 40665   group size : 13\n",
      "number: 40688   group size : 12\n",
      "number: 40730   group size : 16\n",
      "number: 40806   group size : 4946\n",
      "number: 40808   group size : 14\n",
      "number: 40951   group size : 11\n",
      "number: 41046   group size : 11\n",
      "number: 41069   group size : 12\n",
      "number: 41070   group size : 1\n",
      "number: 41128   group size : 15\n",
      "number: 41161   group size : 3811\n",
      "number: 41295   group size : 5057\n",
      "number: 41590   group size : 15\n",
      "number: 41605   group size : 10\n",
      "number: 41684   group size : 4364\n",
      "number: 41726   group size : 16\n",
      "number: 41820   group size : 16\n",
      "number: 41935   group size : 15\n",
      "number: 41978   group size : 16\n",
      "number: 41981   group size : 16\n",
      "number: 42096   group size : 15\n",
      "number: 42174   group size : 15\n",
      "number: 42196   group size : 16\n",
      "number: 42206   group size : 14\n",
      "number: 42275   group size : 13\n",
      "number: 42284   group size : 11\n",
      "number: 42286   group size : 16\n",
      "number: 42290   group size : 15\n",
      "number: 42398   group size : 16\n",
      "number: 5594Temp   group size : 11\n",
      "number: 5597Temp   group size : 20\n",
      "number: 5598Temp   group size : 16\n",
      "number: 5682Temp   group size : 16\n",
      "number: 5686Temp   group size : 15\n",
      "number: 5701Temp   group size : 13\n",
      "number: 5702Temp   group size : 17\n",
      "number: 5707Temp   group size : 15\n",
      "number: 5709Temp   group size : 14\n",
      "number: 5710Temp   group size : 12\n",
      "number: 5712Temp   group size : 14\n",
      "number: 5713Temp   group size : 16\n",
      "number: 5714Temp   group size : 14\n",
      "number: 5715Temp   group size : 1\n",
      "number: 5717Temp   group size : 13\n",
      "number: 5718Temp   group size : 14\n",
      "number: 5740Temp   group size : 15\n",
      "number: 5742Temp   group size : 16\n",
      "number: 5745Temp   group size : 14\n",
      "number: 5746Temp   group size : 14\n",
      "number: 5923   group size : 9\n",
      "number: 6859   group size : 7\n",
      "number: 7505   group size : 7\n",
      "number: 8074   group size : 11\n",
      "number: 8436   group size : 2299\n",
      "number: 9775   group size : 5029\n"
     ]
    }
   ],
   "source": [
    "numb = []\n",
    "#print(data.groupby('PatientNumber').PatientNumber.nunique())\n",
    "#print((data.groupby('PatientNumber')) )\n",
    "\n",
    "#print(data['PatientNumber'].unique())\n",
    "data['PatientNumber'] = data['PatientNumber'].astype('str')\n",
    "#print(data['PatientNumber'].unique())\n",
    "\n",
    "\n",
    "for number, group in data.groupby('PatientNumber'): \n",
    "    \n",
    "#     print(number)\n",
    "    #print('string number :%s:' %(number))\n",
    "    numb.append(number)\n",
    "    print('number: %s   group size : %d' %(number, len(group)))\n",
    "    #print('###############################')\n",
    "    new_dict[number] = group"
   ]
  },
  {
   "cell_type": "code",
   "execution_count": 7,
   "metadata": {},
   "outputs": [],
   "source": [
    "to_drop=['ID', 'DialysisScheduleId', 'FirstName', 'MiddleName',\n",
    "       'LastName', 'BillNo', 'DialysisDataId', 'Status',\n",
    "       'TreatmentType', 'Bypass', 'Dflow','BpFlow','WBCond',\"TBVol\",'DIPPG2','DIPPG4','SNPress', 'RTime', 'PTime', 'TrTime', 'EstFTime',\n",
    "        'THour',\"AUFSpeed\",'PUFRem','SPSpeed','Temp',\n",
    "       'TUFSpeed', 'TUfGoal', 'TTime', 'BFAvg','TotCond',\n",
    "       'AlarmCode', 'AlarmType', 'AddedDate', 'SerialNumber',\n",
    "       'NiproMachineName']"
   ]
  },
  {
   "cell_type": "code",
   "execution_count": 8,
   "metadata": {},
   "outputs": [],
   "source": [
    "data1=data.drop(to_drop,axis=1)"
   ]
  },
  {
   "cell_type": "code",
   "execution_count": 9,
   "metadata": {},
   "outputs": [],
   "source": [
    "Patient = data1.loc[data['PatientNumber'] == '41295']\n",
    "Patient.index = range(5057)"
   ]
  },
  {
   "cell_type": "code",
   "execution_count": 10,
   "metadata": {},
   "outputs": [
    {
     "name": "stdout",
     "output_type": "stream",
     "text": [
      "     PatientNumber  LastUpdateTimeStamp  DIPPG3  Apress  Vpress  BPSyst  \\\n",
      "0            41295  2019-03-16 15:28:45      89    -147      85   142.0   \n",
      "1            41295  2019-03-16 15:28:47     101    -147      80   142.0   \n",
      "2            41295  2019-03-16 15:28:49      91    -147      88   142.0   \n",
      "3            41295  2019-03-16 15:28:51      90    -147      86   142.0   \n",
      "4            41295  2019-03-16 15:28:53      90    -147      89   142.0   \n",
      "5            41295  2019-03-16 15:28:55      89    -147      91   142.0   \n",
      "6            41295  2019-03-16 15:28:57      89    -147      94   142.0   \n",
      "7            41295  2019-03-16 15:28:59     100    -147      82   142.0   \n",
      "8            41295  2019-03-16 15:29:01      91    -147      89   142.0   \n",
      "9            41295  2019-03-16 15:29:03      90    -147      92   142.0   \n",
      "10           41295  2019-03-16 15:29:05      89    -147      85   142.0   \n",
      "11           41295  2019-03-16 15:29:07      88    -147      87   142.0   \n",
      "12           41295  2019-03-16 15:29:09      97    -147      89   142.0   \n",
      "13           41295  2019-03-16 15:29:11      88    -147      89   142.0   \n",
      "14           41295  2019-03-16 15:29:13      91    -147      91   142.0   \n",
      "15           41295  2019-03-16 15:29:15      89    -147      84   142.0   \n",
      "16           41295  2019-03-16 15:29:17      88    -147      84   142.0   \n",
      "17           41295  2019-03-16 15:29:19      88    -147      89   142.0   \n",
      "18           41295  2019-03-16 15:29:21     101    -147      92   142.0   \n",
      "19           41295  2019-03-16 15:29:23      85    -147      89   142.0   \n",
      "20           41295  2019-03-16 15:29:25      90    -147      84   142.0   \n",
      "21           41295  2019-03-16 15:29:27      89    -147      88   142.0   \n",
      "22           41295  2019-03-16 15:29:29      88    -147      86   142.0   \n",
      "23           41295  2019-03-16 15:29:31      89    -147      90   142.0   \n",
      "24           41295  2019-03-16 15:29:33      96    -147      85   142.0   \n",
      "25           41295  2019-03-16 15:29:35      92    -147      87   142.0   \n",
      "26           41295  2019-03-16 15:29:37      91    -147      88   142.0   \n",
      "27           41295  2019-03-16 15:29:39      90    -147      90   142.0   \n",
      "28           41295  2019-03-16 15:29:41      89    -147      83   142.0   \n",
      "29           41295  2019-03-16 15:29:43      89    -147      91   142.0   \n",
      "...            ...                  ...     ...     ...     ...     ...   \n",
      "5027         41295  2019-03-16 18:34:02     -15    -152      20    91.0   \n",
      "5028         41295  2019-03-16 18:34:04     -15    -151      18    91.0   \n",
      "5029         41295  2019-03-16 18:34:06      -4    -150      17    91.0   \n",
      "5030         41295  2019-03-16 18:34:08     -11    -150      20    91.0   \n",
      "5031         41295  2019-03-16 18:34:10     -11    -149      22    91.0   \n",
      "5032         41295  2019-03-16 18:34:12     -11    -148      23    91.0   \n",
      "5033         41295  2019-03-16 18:34:14     -11    -148      24    91.0   \n",
      "5034         41295  2019-03-16 18:34:16     -11    -147      25    91.0   \n",
      "5035         41295  2019-03-16 18:34:18       5    -147      26    91.0   \n",
      "5036         41295  2019-03-16 18:34:20      -8    -146      28    91.0   \n",
      "5037         41295  2019-03-16 18:34:22      -9    -145      28    91.0   \n",
      "5038         41295  2019-03-16 18:34:24     -23    -144      -8    91.0   \n",
      "5039         41295  2019-03-16 18:34:26     -33    -143     -16    91.0   \n",
      "5040         41295  2019-03-16 18:34:28     -34    -142     -21    91.0   \n",
      "5041         41295  2019-03-16 18:34:30     -30    -140     -23    91.0   \n",
      "5042         41295  2019-03-16 18:34:32     -39    -139     -23    91.0   \n",
      "5043         41295  2019-03-16 18:34:34     -42    -138     -23    91.0   \n",
      "5044         41295  2019-03-16 18:34:36     -43    -137     -24    91.0   \n",
      "5045         41295  2019-03-16 18:34:38     -44    -136     -24    91.0   \n",
      "5046         41295  2019-03-16 18:34:40     -36    -135     -26    91.0   \n",
      "5047         41295  2019-03-16 18:34:42     -44    -134     -27    91.0   \n",
      "5048         41295  2019-03-16 18:34:44     -44    -132     -27    91.0   \n",
      "5049         41295  2019-03-16 18:34:46     -44    -132     -26    91.0   \n",
      "5050         41295  2019-03-16 18:34:48     -44    -131     -26    91.0   \n",
      "5051         41295  2019-03-16 18:34:50     -45    -129     -27    91.0   \n",
      "5052         41295  2019-03-16 18:34:52     -34    -129     -27    91.0   \n",
      "5053         41295  2019-03-16 18:34:54     -45    -128     -28    91.0   \n",
      "5054         41295  2019-03-16 18:34:56     -43    -126     -27    91.0   \n",
      "5055         41295  2019-03-16 18:34:58     -44    -126     -27    91.0   \n",
      "5056         41295  2019-03-16 18:35:00     -44    -125     -27    91.0   \n",
      "\n",
      "      BPDia  Hrate  IVSPump   TMP      BP  CKTV  TKTV  \n",
      "0      66.0   75.0      9.6 -44.0  142/66   0.1   1.2  \n",
      "1      66.0   75.0      9.6 -43.0  142/66   0.1   1.2  \n",
      "2      66.0   75.0      9.6 -43.0  142/66   0.1   1.2  \n",
      "3      66.0   75.0      9.6 -43.0  142/66   0.1   1.2  \n",
      "4      66.0   75.0      9.6 -43.0  142/66   0.1   1.2  \n",
      "5      66.0   75.0      9.6 -43.0  142/66   0.1   1.2  \n",
      "6      66.0   75.0      9.6 -43.0  142/66   0.1   1.2  \n",
      "7      66.0   75.0      9.6 -42.0  142/66   0.1   1.2  \n",
      "8      66.0   75.0      9.6 -42.0  142/66   0.1   1.2  \n",
      "9      66.0   75.0      9.6 -42.0  142/66   0.1   1.2  \n",
      "10     66.0   75.0      9.6 -42.0  142/66   0.1   1.2  \n",
      "11     66.0   75.0      9.6 -42.0  142/66   0.1   1.2  \n",
      "12     66.0   75.0      9.6 -42.0  142/66   0.1   1.2  \n",
      "13     66.0   75.0      9.6 -43.0  142/66   0.1   1.2  \n",
      "14     66.0   75.0      9.6 -43.0  142/66   0.1   1.2  \n",
      "15     66.0   75.0      9.6 -43.0  142/66   0.1   1.2  \n",
      "16     66.0   75.0      9.7 -43.0  142/66   0.1   1.2  \n",
      "17     66.0   75.0      9.7 -43.0  142/66   0.1   1.2  \n",
      "18     66.0   75.0      9.7 -43.0  142/66   0.1   1.2  \n",
      "19     66.0   75.0      9.7 -40.0  142/66   0.1   1.2  \n",
      "20     66.0   75.0      9.7 -40.0  142/66   0.1   1.2  \n",
      "21     66.0   75.0      9.7 -40.0  142/66   0.1   1.2  \n",
      "22     66.0   75.0      9.7 -40.0  142/66   0.1   1.2  \n",
      "23     66.0   75.0      9.7 -40.0  142/66   0.1   1.2  \n",
      "24     66.0   75.0      9.7 -42.0  142/66   0.1   1.2  \n",
      "25     66.0   75.0      9.7 -42.0  142/66   0.1   1.2  \n",
      "26     66.0   75.0      9.7 -42.0  142/66   0.1   1.2  \n",
      "27     66.0   75.0      9.7 -42.0  142/66   0.1   1.2  \n",
      "28     66.0   75.0      9.7 -42.0  142/66   0.1   1.2  \n",
      "29     66.0   75.0      9.7 -42.0  142/66   0.1   1.2  \n",
      "...     ...    ...      ...   ...     ...   ...   ...  \n",
      "5027   50.0   71.0     13.8  62.0   91/50   1.2   1.2  \n",
      "5028   50.0   71.0     13.8  62.0   91/50   1.2   1.2  \n",
      "5029   50.0   71.0     13.8  66.0   91/50   1.2   1.2  \n",
      "5030   50.0   71.0     13.8  66.0   91/50   1.2   1.2  \n",
      "5031   50.0   71.0     13.8  66.0   91/50   1.2   1.2  \n",
      "5032   50.0   71.0     13.8  66.0   91/50   1.2   1.2  \n",
      "5033   50.0   71.0     13.8  66.0   91/50   1.2   1.2  \n",
      "5034   50.0   71.0     13.8  66.0   91/50   1.2   1.2  \n",
      "5035   50.0   71.0     13.8  66.0   91/50   1.2   1.2  \n",
      "5036   50.0   71.0     13.8  66.0   91/50   1.2   1.2  \n",
      "5037   50.0   71.0     13.8  66.0   91/50   1.2   1.2  \n",
      "5038   50.0   71.0     13.8  66.0   91/50   1.2   1.2  \n",
      "5039   50.0   71.0     13.8  66.0   91/50   1.2   1.2  \n",
      "5040   50.0   71.0     13.8  66.0   91/50   1.2   1.2  \n",
      "5041   50.0   71.0     13.8  58.0   91/50   1.2   1.2  \n",
      "5042   50.0   71.0     13.8  58.0   91/50   1.2   1.2  \n",
      "5043   50.0   71.0     13.8  58.0   91/50   1.2   1.2  \n",
      "5044   50.0   71.0     13.8  58.0   91/50   1.2   1.2  \n",
      "5045   50.0   71.0     13.8  58.0   91/50   1.2   1.2  \n",
      "5046   50.0   71.0     13.8  58.0   91/50   1.2   1.2  \n",
      "5047   50.0   71.0     13.8  48.0   91/50   1.2   1.2  \n",
      "5048   50.0   71.0     13.8  48.0   91/50   1.2   1.2  \n",
      "5049   50.0   71.0     13.8  48.0   91/50   1.2   1.2  \n",
      "5050   50.0   71.0     13.8  48.0   91/50   1.2   1.2  \n",
      "5051   50.0   71.0     13.8  48.0   91/50   1.2   1.2  \n",
      "5052   50.0   71.0     13.8  48.0   91/50   1.2   1.2  \n",
      "5053   50.0   71.0     13.8  48.0   91/50   1.2   1.2  \n",
      "5054   50.0   71.0     13.8  48.0   91/50   1.2   1.2  \n",
      "5055   50.0   71.0     13.8  48.0   91/50   1.2   1.2  \n",
      "5056   50.0   71.0     13.8  48.0   91/50   1.2   1.2  \n",
      "\n",
      "[5057 rows x 13 columns]\n"
     ]
    }
   ],
   "source": [
    "print(Patient)"
   ]
  },
  {
   "cell_type": "code",
   "execution_count": 11,
   "metadata": {},
   "outputs": [
    {
     "data": {
      "text/plain": [
       "[<matplotlib.lines.Line2D at 0x1146fb860>]"
      ]
     },
     "execution_count": 11,
     "metadata": {},
     "output_type": "execute_result"
    },
    {
     "data": {
      "image/png": "[encoded data removed]",
      "text/plain": [
       "<Figure size 1080x432 with 1 Axes>"
      ]
     },
     "metadata": {
      "needs_background": "light"
     },
     "output_type": "display_data"
    }
   ],
   "source": [
    "plt.plot(Patient['BPSyst'])"
   ]
  },
  {
   "cell_type": "code",
   "execution_count": 12,
   "metadata": {},
   "outputs": [],
   "source": [
    "ts=Patient['BPSyst']"
   ]
  },
  {
   "cell_type": "code",
   "execution_count": 13,
   "metadata": {},
   "outputs": [
    {
     "name": "stdout",
     "output_type": "stream",
     "text": [
      "The p-value of the test on prices is: 0.8904504194890188\n"
     ]
    }
   ],
   "source": [
    "# Stationarity Test DICKY FULLER\n",
    "from statsmodels.tsa.stattools import adfuller\n",
    "results = adfuller(Patient[\"BPSyst\"])\n",
    "#Just print out the p-value\n",
    "print('The p-value of the test on prices is: ' + str(results[1]))"
   ]
  },
  {
   "cell_type": "code",
   "execution_count": 14,
   "metadata": {},
   "outputs": [
    {
     "data": {
      "image/png": "[encoded data removed]",
      "text/plain": [
       "<Figure size 1080x432 with 1 Axes>"
      ]
     },
     "metadata": {
      "needs_background": "light"
     },
     "output_type": "display_data"
    },
    {
     "data": {
      "image/png": "[encoded data removed]",
      "text/plain": [
       "<Figure size 1080x432 with 1 Axes>"
      ]
     },
     "metadata": {
      "needs_background": "light"
     },
     "output_type": "display_data"
    }
   ],
   "source": [
    "# Import the plot_acf module from statsmodels\n",
    "from statsmodels.graphics.tsaplots import plot_acf\n",
    "from statsmodels.graphics.tsaplots import plot_pacf\n",
    "\n",
    "plot_acf(Patient[\"BPSyst\"], alpha=1, lags=100)\n",
    "plt.show()\n",
    "plot_pacf(Patient[\"BPSyst\"], alpha=1, lags=100)\n",
    "plt.show()\n",
    "\n",
    "\n"
   ]
  },
  {
   "cell_type": "code",
   "execution_count": 15,
   "metadata": {},
   "outputs": [],
   "source": [
    "ts_log=np.log(Patient[\"BPSyst\"])"
   ]
  },
  {
   "cell_type": "code",
   "execution_count": 16,
   "metadata": {},
   "outputs": [
    {
     "name": "stdout",
     "output_type": "stream",
     "text": [
      "0    4.955827\n",
      "1    4.955827\n",
      "2    4.955827\n",
      "3    4.955827\n",
      "4    4.955827\n",
      "Name: BPSyst, dtype: float64\n"
     ]
    }
   ],
   "source": [
    "print(ts_log.head())"
   ]
  },
  {
   "cell_type": "code",
   "execution_count": 17,
   "metadata": {},
   "outputs": [
    {
     "data": {
      "text/plain": [
       "[<matplotlib.lines.Line2D at 0x1c1c5f4390>]"
      ]
     },
     "execution_count": 17,
     "metadata": {},
     "output_type": "execute_result"
    },
    {
     "data": {
      "image/png": "[encoded data removed]",
      "text/plain": [
       "<Figure size 1080x432 with 1 Axes>"
      ]
     },
     "metadata": {
      "needs_background": "light"
     },
     "output_type": "display_data"
    }
   ],
   "source": [
    "ts_log_diff = ts_log - ts_log.shift()\n",
    "plt.plot(ts_log_diff)"
   ]
  },
  {
   "cell_type": "code",
   "execution_count": 18,
   "metadata": {},
   "outputs": [],
   "source": [
    "dataset_train_tranformed=ts_log_diff.dropna()"
   ]
  },
  {
   "cell_type": "code",
   "execution_count": 19,
   "metadata": {},
   "outputs": [
    {
     "name": "stdout",
     "output_type": "stream",
     "text": [
      "1    0.0\n",
      "2    0.0\n",
      "3    0.0\n",
      "4    0.0\n",
      "5    0.0\n",
      "Name: BPSyst, dtype: float64\n"
     ]
    }
   ],
   "source": [
    "print(dataset_train_tranformed.head())"
   ]
  },
  {
   "cell_type": "code",
   "execution_count": 20,
   "metadata": {},
   "outputs": [
    {
     "data": {
      "text/plain": [
       "[<matplotlib.lines.Line2D at 0x1c1c654eb8>]"
      ]
     },
     "execution_count": 20,
     "metadata": {},
     "output_type": "execute_result"
    },
    {
     "data": {
      "image/png": "[encoded data removed]",
      "text/plain": [
       "<Figure size 1080x432 with 1 Axes>"
      ]
     },
     "metadata": {
      "needs_background": "light"
     },
     "output_type": "display_data"
    }
   ],
   "source": [
    "plt.plot(dataset_train_tranformed)"
   ]
  },
  {
   "cell_type": "code",
   "execution_count": 21,
   "metadata": {},
   "outputs": [],
   "source": [
    "#dataset_train_tranformed1=dataset_train_tranformed.values()\n",
    "train=ts[:4000]\n",
    "test=(ts[4000:])"
   ]
  },
  {
   "cell_type": "code",
   "execution_count": 22,
   "metadata": {},
   "outputs": [
    {
     "name": "stdout",
     "output_type": "stream",
     "text": [
      "                             ARIMA Model Results                              \n",
      "==============================================================================\n",
      "Dep. Variable:               D.BPSyst   No. Observations:                 3999\n",
      "Model:                 ARIMA(8, 1, 0)   Log Likelihood               -3991.905\n",
      "Method:                       css-mle   S.D. of innovations              0.657\n",
      "Date:                Sun, 24 Nov 2019   AIC                           8003.809\n",
      "Time:                        12:47:35   BIC                           8066.747\n",
      "Sample:                             1   HQIC                          8026.120\n",
      "                                                                              \n",
      "==================================================================================\n",
      "                     coef    std err          z      P>|z|      [0.025      0.975]\n",
      "----------------------------------------------------------------------------------\n",
      "const             -0.0035      0.010     -0.337      0.736      -0.024       0.017\n",
      "ar.L1.D.BPSyst -2.848e-05      0.016     -0.002      0.999      -0.031       0.031\n",
      "ar.L2.D.BPSyst -2.848e-05      0.016     -0.002      0.999      -0.031       0.031\n",
      "ar.L3.D.BPSyst -2.849e-05      0.016     -0.002      0.999      -0.031       0.031\n",
      "ar.L4.D.BPSyst  -2.85e-05      0.016     -0.002      0.999      -0.031       0.031\n",
      "ar.L5.D.BPSyst  -2.85e-05      0.016     -0.002      0.999      -0.031       0.031\n",
      "ar.L6.D.BPSyst -2.852e-05      0.016     -0.002      0.999      -0.031       0.031\n",
      "ar.L7.D.BPSyst -2.852e-05      0.016     -0.002      0.999      -0.031       0.031\n",
      "ar.L8.D.BPSyst -2.853e-05      0.016     -0.002      0.999      -0.031       0.031\n",
      "                                    Roots                                    \n",
      "=============================================================================\n",
      "                  Real          Imaginary           Modulus         Frequency\n",
      "-----------------------------------------------------------------------------\n",
      "AR.1            3.2715           -1.4273j            3.5693           -0.0655\n",
      "AR.2            3.2715           +1.4273j            3.5693            0.0655\n",
      "AR.3            1.2873           -3.4372j            3.6703           -0.1930\n",
      "AR.4            1.2873           +3.4372j            3.6703            0.1930\n",
      "AR.5           -3.5274           -1.4206j            3.8027           -0.4391\n",
      "AR.6           -3.5274           +1.4206j            3.8027            0.4391\n",
      "AR.7           -1.5312           -3.4317j            3.7578           -0.3168\n",
      "AR.8           -1.5312           +3.4317j            3.7578            0.3168\n",
      "-----------------------------------------------------------------------------\n",
      "When the true phi=0.9, the estimate of phi (and the constant) are:\n",
      "const            -0.003501\n",
      "ar.L1.D.BPSyst   -0.000028\n",
      "ar.L2.D.BPSyst   -0.000028\n",
      "ar.L3.D.BPSyst   -0.000028\n",
      "ar.L4.D.BPSyst   -0.000028\n",
      "ar.L5.D.BPSyst   -0.000029\n",
      "ar.L6.D.BPSyst   -0.000029\n",
      "ar.L7.D.BPSyst   -0.000029\n",
      "ar.L8.D.BPSyst   -0.000029\n",
      "dtype: float64\n"
     ]
    }
   ],
   "source": [
    "# Import the ARMA module from statsmodels\n",
    "from statsmodels.tsa.arima_model import ARIMA\n",
    "\n",
    "# Forecast interest rates using an AR(1) model\n",
    "mod = ARIMA(train, order=(8,1,0))\n",
    "res = mod.fit()\n",
    "print(res.summary())\n",
    "print(\"When the true phi=0.9, the estimate of phi (and the constant) are:\")\n",
    "print(res.params)"
   ]
  },
  {
   "cell_type": "code",
   "execution_count": 23,
   "metadata": {},
   "outputs": [
    {
     "data": {
      "image/png": "[encoded data removed]",
      "text/plain": [
       "<Figure size 1080x432 with 1 Axes>"
      ]
     },
     "metadata": {
      "needs_background": "light"
     },
     "output_type": "display_data"
    }
   ],
   "source": [
    "res.plot_predict(start=4000, end=5057)\n",
    "plt.plot(train,'blue')\n",
    "plt.plot(test,'red')\n",
    "#train.plot(figsize=(15,8), title= 'Treated Blood Volume', fontsize=14,co)\n",
    "#test.plot(figsize=(15,8), title= 'Treated Blood Volume', fontsize=14)\n",
    "#plt.legend(fontsize=5)\n",
    "plt.show()"
   ]
  },
  {
   "cell_type": "code",
   "execution_count": 24,
   "metadata": {},
   "outputs": [],
   "source": [
    "from math import sqrt\n",
    "from sklearn.metrics import mean_squared_error"
   ]
  },
  {
   "cell_type": "code",
   "execution_count": 25,
   "metadata": {},
   "outputs": [],
   "source": [
    "predictions=res.predict(start=4000,end=5057)"
   ]
  },
  {
   "cell_type": "code",
   "execution_count": 26,
   "metadata": {},
   "outputs": [],
   "source": [
    "predictions=res.forecast(steps=1057)[0]"
   ]
  },
  {
   "cell_type": "code",
   "execution_count": 27,
   "metadata": {},
   "outputs": [
    {
     "name": "stdout",
     "output_type": "stream",
     "text": [
      "Test RMSE:12.798\n"
     ]
    }
   ],
   "source": [
    "from math import sqrt\n",
    "from sklearn.metrics import mean_squared_error\n",
    "print(\"Test RMSE:%.3f\" %sqrt(mean_squared_error(test,predictions)))"
   ]
  },
  {
   "cell_type": "code",
   "execution_count": 28,
   "metadata": {},
   "outputs": [
    {
     "name": "stdout",
     "output_type": "stream",
     "text": [
      "The AIC for an AR(2) is:  7991.604637978022\n",
      "The AIC for an AR(2,0,1) is:  7993.557204845742\n",
      "The AIC for an MA(3) is:  16104.03811874096\n",
      "The AIC for an ARMA(1,0,1) is:  7991.604694878616\n"
     ]
    }
   ],
   "source": [
    "# Import the module for estimating an ARMA model\n",
    "from statsmodels.tsa.arima_model import ARIMA\n",
    "\n",
    "# Fit the data to an AR(2) model and print AIC:\n",
    "mod = ARIMA(train, order=(2,0,0))\n",
    "res = mod.fit()\n",
    "print(\"The AIC for an AR(2) is: \", res.aic)\n",
    "\n",
    "# Fit the data to an AR(2,1,1) model and print AIC:\n",
    "mod = ARIMA(train, order=(2,0,1))\n",
    "res = mod.fit()\n",
    "print(\"The AIC for an AR(2,0,1) is: \", res.aic)\n",
    "\n",
    "# Fit the data to an MA(3) model and print AIC:\n",
    "mod = ARIMA(train, order=(0,0,3))\n",
    "res = mod.fit()\n",
    "print(\"The AIC for an MA(3) is: \", res.aic)\n",
    "\n",
    "# Fit the data to an ARMA(1,1,1) model and print AIC:\n",
    "mod = ARIMA(train, order=(1,0,1))\n",
    "res = mod.fit()\n",
    "print(\"The AIC for an ARMA(1,0,1) is: \", res.aic)"
   ]
  },
  {
   "cell_type": "code",
   "execution_count": 29,
   "metadata": {},
   "outputs": [
    {
     "name": "stdout",
     "output_type": "stream",
     "text": [
      "The BIC for an AR(1,1) is:  8008.690860118099\n",
      "The BIC for an AR(2,1) is:  8016.98465649285\n",
      "The BIC for an MA(1) is:  8008.690860117924\n",
      "The BIC for an ARMA(1,1) is:  8016.780893439024\n"
     ]
    }
   ],
   "source": [
    "# Import the module for estimating an ARMA model\n",
    "from statsmodels.tsa.arima_model import ARIMA\n",
    "\n",
    "# Fit the data to an AR(1,1) model and print BIC:\n",
    "mod = ARIMA(train, order=(1,1,0))\n",
    "res = mod.fit()\n",
    "print(\"The BIC for an AR(1,1) is: \", res.bic)\n",
    "\n",
    "# Fit the data to an AR(2) model and print BIC:\n",
    "mod = ARIMA(train, order=(2,1,0))\n",
    "res = mod.fit()\n",
    "print(\"The BIC for an AR(2,1) is: \", res.bic)\n",
    "\n",
    "# Fit the data to an MA(1,1) model and print BIC:\n",
    "mod = ARIMA(train, order=(0,1,1))\n",
    "res = mod.fit()\n",
    "print(\"The BIC for an MA(1) is: \", res.bic)\n",
    "\n",
    "# Fit the data to an ARMA(1,1,1) model and print BIC:\n",
    "mod = ARIMA(train, order=(1,0,1))\n",
    "res = mod.fit()\n",
    "print(\"The BIC for an ARMA(1,1) is: \", res.bic)"
   ]
  },
  {
   "cell_type": "code",
   "execution_count": null,
   "metadata": {},
   "outputs": [],
   "source": []
  }
 ],
 "metadata": {
  "kernelspec": {
   "display_name": "Python 3",
   "language": "python",
   "name": "python3"
  },
  "language_info": {
   "codemirror_mode": {
    "name": "ipython",
    "version": 3
   },
   "file_extension": ".py",
   "mimetype": "text/x-python",
   "name": "python",
   "nbconvert_exporter": "python",
   "pygments_lexer": "ipython3",
   "version": "3.7.3"
  }
 },
 "nbformat": 4,
 "nbformat_minor": 2
}
