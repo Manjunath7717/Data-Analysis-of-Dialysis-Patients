{
 "cells": [
  {
   "cell_type": "code",
   "execution_count": 1,
   "metadata": {},
   "outputs": [],
   "source": [
    "import warnings\n",
    "import itertools\n",
    "import numpy as np\n",
    "import matplotlib.pyplot as plt\n",
    "warnings.filterwarnings(\"ignore\")\n",
    "plt.style.use('fivethirtyeight')\n",
    "import pandas as pd\n",
    "#import statsmodels.api as sm\n",
    "import matplotlib\n",
    "matplotlib.rcParams['axes.labelsize'] = 20\n",
    "matplotlib.rcParams['xtick.labelsize'] = 16\n",
    "matplotlib.rcParams['ytick.labelsize'] = 16\n",
    "matplotlib.rcParams['text.color'] = 'k'"
   ]
  },
  {
   "cell_type": "code",
   "execution_count": 2,
   "metadata": {},
   "outputs": [],
   "source": [
    "#dateparse = lambda dates: pd.datetime.strptime(dates, '%Y-%m-%d %H:%M:%S')\n",
    "#data = pd.read_csv('Nipro16032019.csv', parse_dates=['LastUpdateTimeStamp'], index_col='LastUpdateTimeStamp',date_parser=dateparse)\n",
    "#data.index\n",
    "data=pd.read_csv('Nipro16032019.csv')"
   ]
  },
  {
   "cell_type": "code",
   "execution_count": 3,
   "metadata": {},
   "outputs": [],
   "source": [
    "#print(data.head()['Temp'])\n",
    "#print (data.dtypes)\n",
    "new_dict = {}"
   ]
  },
  {
   "cell_type": "code",
   "execution_count": 4,
   "metadata": {},
   "outputs": [
    {
     "name": "stdout",
     "output_type": "stream",
     "text": [
      "number: 12550   group size : 2300\n",
      "number: 12972   group size : 3810\n",
      "number: 13302   group size : 3811\n",
      "number: 16897   group size : 2299\n",
      "number: 18762   group size : 3573\n",
      "number: 20131   group size : 3811\n",
      "number: 22784   group size : 2299\n",
      "number: 23857   group size : 3811\n",
      "number: 24233   group size : 4486\n",
      "number: 25478   group size : 3811\n",
      "number: 27271   group size : 3811\n",
      "number: 31431   group size : 3810\n",
      "number: 32922   group size : 3810\n",
      "number: 36770   group size : 3553\n",
      "number: 39491   group size : 3811\n",
      "number: 40806   group size : 4946\n",
      "number: 41161   group size : 3811\n",
      "number: 41295   group size : 5057\n",
      "number: 41684   group size : 4364\n",
      "number: 8436   group size : 2299\n",
      "number: 9775   group size : 5029\n"
     ]
    }
   ],
   "source": [
    "numb = []\n",
    "#print(data.groupby('PatientNumber').PatientNumber.nunique())\n",
    "#print((data.groupby('PatientNumber')) )\n",
    "\n",
    "#print(data['PatientNumber'].unique())\n",
    "data['PatientNumber'] = data['PatientNumber'].astype('str')\n",
    "#print(data['PatientNumber'].unique())\n",
    "\n",
    "\n",
    "for number, group in data.groupby('PatientNumber'): \n",
    "    \n",
    "#     print(number)\n",
    "    #print('string number :%s:' %(number))\n",
    "    numb.append(number)\n",
    "    if len(group)>=2000:\n",
    "        print('number: %s   group size : %d' %(number, len(group)))\n",
    "    #print('###############################')\n",
    "    new_dict[number] = group"
   ]
  },
  {
   "cell_type": "code",
   "execution_count": 5,
   "metadata": {},
   "outputs": [],
   "source": [
    "df2=data.sort_values(by='LastUpdateTimeStamp',ascending=True)"
   ]
  },
  {
   "cell_type": "code",
   "execution_count": 6,
   "metadata": {},
   "outputs": [],
   "source": [
    "to_drop=['ID', 'DialysisScheduleId', 'FirstName', 'MiddleName',\n",
    "       'LastName', 'BillNo', 'DialysisDataId', 'Status',\n",
    "       'TreatmentType', 'Bypass', 'Dflow','BpFlow','WBCond',\"TBVol\",'DIPPG2','DIPPG4','SNPress', 'RTime', 'PTime', 'TrTime', 'EstFTime',\n",
    "        'THour',\"AUFSpeed\",'PUFRem','SPSpeed',\n",
    "       'TUFSpeed', 'TUfGoal', 'TTime', 'BFAvg','TotCond',\n",
    "       'AlarmCode', 'AlarmType', 'AddedDate', 'SerialNumber',\n",
    "       'NiproMachineName']"
   ]
  },
  {
   "cell_type": "code",
   "execution_count": 7,
   "metadata": {},
   "outputs": [],
   "source": [
    "data1=df2.drop(to_drop,axis=1)"
   ]
  },
  {
   "cell_type": "code",
   "execution_count": 8,
   "metadata": {},
   "outputs": [],
   "source": [
    "Patient = data1.loc[data['PatientNumber'] == '41295']\n",
    "Patient.index = range(5057)"
   ]
  },
  {
   "cell_type": "code",
   "execution_count": 9,
   "metadata": {},
   "outputs": [
    {
     "data": {
      "text/html": [
       "<div>\n",
       "<style scoped>\n",
       "    .dataframe tbody tr th:only-of-type {\n",
       "        vertical-align: middle;\n",
       "    }\n",
       "\n",
       "    .dataframe tbody tr th {\n",
       "        vertical-align: top;\n",
       "    }\n",
       "\n",
       "    .dataframe thead th {\n",
       "        text-align: right;\n",
       "    }\n",
       "</style>\n",
       "<table border=\"1\" class=\"dataframe\">\n",
       "  <thead>\n",
       "    <tr style=\"text-align: right;\">\n",
       "      <th></th>\n",
       "      <th>PatientNumber</th>\n",
       "      <th>LastUpdateTimeStamp</th>\n",
       "      <th>DIPPG3</th>\n",
       "      <th>Apress</th>\n",
       "      <th>Vpress</th>\n",
       "      <th>BPSyst</th>\n",
       "      <th>BPDia</th>\n",
       "      <th>Hrate</th>\n",
       "      <th>IVSPump</th>\n",
       "      <th>Temp</th>\n",
       "      <th>TMP</th>\n",
       "      <th>BP</th>\n",
       "      <th>CKTV</th>\n",
       "      <th>TKTV</th>\n",
       "    </tr>\n",
       "  </thead>\n",
       "  <tbody>\n",
       "    <tr>\n",
       "      <th>0</th>\n",
       "      <td>41295</td>\n",
       "      <td>2019-03-16 15:28:45</td>\n",
       "      <td>89</td>\n",
       "      <td>-147</td>\n",
       "      <td>85</td>\n",
       "      <td>142.0</td>\n",
       "      <td>66.0</td>\n",
       "      <td>75.0</td>\n",
       "      <td>9.6</td>\n",
       "      <td>36.4</td>\n",
       "      <td>-44.0</td>\n",
       "      <td>142/66</td>\n",
       "      <td>0.1</td>\n",
       "      <td>1.2</td>\n",
       "    </tr>\n",
       "    <tr>\n",
       "      <th>1</th>\n",
       "      <td>41295</td>\n",
       "      <td>2019-03-16 15:28:47</td>\n",
       "      <td>101</td>\n",
       "      <td>-147</td>\n",
       "      <td>80</td>\n",
       "      <td>142.0</td>\n",
       "      <td>66.0</td>\n",
       "      <td>75.0</td>\n",
       "      <td>9.6</td>\n",
       "      <td>36.4</td>\n",
       "      <td>-43.0</td>\n",
       "      <td>142/66</td>\n",
       "      <td>0.1</td>\n",
       "      <td>1.2</td>\n",
       "    </tr>\n",
       "    <tr>\n",
       "      <th>2</th>\n",
       "      <td>41295</td>\n",
       "      <td>2019-03-16 15:28:49</td>\n",
       "      <td>91</td>\n",
       "      <td>-147</td>\n",
       "      <td>88</td>\n",
       "      <td>142.0</td>\n",
       "      <td>66.0</td>\n",
       "      <td>75.0</td>\n",
       "      <td>9.6</td>\n",
       "      <td>36.4</td>\n",
       "      <td>-43.0</td>\n",
       "      <td>142/66</td>\n",
       "      <td>0.1</td>\n",
       "      <td>1.2</td>\n",
       "    </tr>\n",
       "    <tr>\n",
       "      <th>3</th>\n",
       "      <td>41295</td>\n",
       "      <td>2019-03-16 15:28:51</td>\n",
       "      <td>90</td>\n",
       "      <td>-147</td>\n",
       "      <td>86</td>\n",
       "      <td>142.0</td>\n",
       "      <td>66.0</td>\n",
       "      <td>75.0</td>\n",
       "      <td>9.6</td>\n",
       "      <td>36.4</td>\n",
       "      <td>-43.0</td>\n",
       "      <td>142/66</td>\n",
       "      <td>0.1</td>\n",
       "      <td>1.2</td>\n",
       "    </tr>\n",
       "    <tr>\n",
       "      <th>4</th>\n",
       "      <td>41295</td>\n",
       "      <td>2019-03-16 15:28:53</td>\n",
       "      <td>90</td>\n",
       "      <td>-147</td>\n",
       "      <td>89</td>\n",
       "      <td>142.0</td>\n",
       "      <td>66.0</td>\n",
       "      <td>75.0</td>\n",
       "      <td>9.6</td>\n",
       "      <td>36.4</td>\n",
       "      <td>-43.0</td>\n",
       "      <td>142/66</td>\n",
       "      <td>0.1</td>\n",
       "      <td>1.2</td>\n",
       "    </tr>\n",
       "  </tbody>\n",
       "</table>\n",
       "</div>"
      ],
      "text/plain": [
       "  PatientNumber  LastUpdateTimeStamp  DIPPG3  Apress  Vpress  BPSyst  BPDia  \\\n",
       "0         41295  2019-03-16 15:28:45      89    -147      85   142.0   66.0   \n",
       "1         41295  2019-03-16 15:28:47     101    -147      80   142.0   66.0   \n",
       "2         41295  2019-03-16 15:28:49      91    -147      88   142.0   66.0   \n",
       "3         41295  2019-03-16 15:28:51      90    -147      86   142.0   66.0   \n",
       "4         41295  2019-03-16 15:28:53      90    -147      89   142.0   66.0   \n",
       "\n",
       "   Hrate  IVSPump  Temp   TMP      BP  CKTV  TKTV  \n",
       "0   75.0      9.6  36.4 -44.0  142/66   0.1   1.2  \n",
       "1   75.0      9.6  36.4 -43.0  142/66   0.1   1.2  \n",
       "2   75.0      9.6  36.4 -43.0  142/66   0.1   1.2  \n",
       "3   75.0      9.6  36.4 -43.0  142/66   0.1   1.2  \n",
       "4   75.0      9.6  36.4 -43.0  142/66   0.1   1.2  "
      ]
     },
     "execution_count": 9,
     "metadata": {},
     "output_type": "execute_result"
    }
   ],
   "source": [
    "Patient.head()\n"
   ]
  },
  {
   "cell_type": "code",
   "execution_count": 10,
   "metadata": {},
   "outputs": [],
   "source": [
    "#Patient.loc[:,['']]"
   ]
  },
  {
   "cell_type": "code",
   "execution_count": 11,
   "metadata": {},
   "outputs": [],
   "source": [
    "#Patient.loc[:,['BPSyst','Apress']].plot()"
   ]
  },
  {
   "cell_type": "code",
   "execution_count": 12,
   "metadata": {},
   "outputs": [
    {
     "data": {
      "image/png": "[encoded data removed]",
      "text/plain": [
       "<Figure size 720x720 with 1 Axes>"
      ]
     },
     "metadata": {
      "needs_background": "light"
     },
     "output_type": "display_data"
    }
   ],
   "source": [
    "def plot_corr(df,size=10):\n",
    "    '''Function plots a graphical correlation matrix for each pair of columns in the dataframe.\n",
    "\n",
    "    Input:\n",
    "        df: pandas DataFrame\n",
    "        size: vertical and horizontal size of the plot'''\n",
    "\n",
    "    corr = df.corr()\n",
    "    fig, ax = plt.subplots(figsize=(size, size))\n",
    "    ax.matshow(corr)\n",
    "    plt.xticks(range(len(corr.columns)), corr.columns);\n",
    "    plt.yticks(range(len(corr.columns)), corr.columns);\n",
    "plot_corr(Patient)"
   ]
  },
  {
   "cell_type": "code",
   "execution_count": 13,
   "metadata": {},
   "outputs": [
    {
     "data": {
      "text/plain": [
       "<matplotlib.axes._subplots.AxesSubplot at 0x11e208588>"
      ]
     },
     "execution_count": 13,
     "metadata": {},
     "output_type": "execute_result"
    },
    {
     "data": {
      "image/png": "[encoded data removed]",
      "text/plain": [
       "<Figure size 432x288 with 1 Axes>"
      ]
     },
     "metadata": {
      "needs_background": "light"
     },
     "output_type": "display_data"
    }
   ],
   "source": [
    "Patient.loc[:,['CKTV','IVSPump']].plot()"
   ]
  },
  {
   "cell_type": "code",
   "execution_count": 14,
   "metadata": {},
   "outputs": [
    {
     "data": {
      "image/png": "[encoded data removed]",
      "text/plain": [
       "<Figure size 288x288 with 1 Axes>"
      ]
     },
     "metadata": {
      "needs_background": "light"
     },
     "output_type": "display_data"
    }
   ],
   "source": [
    "import matplotlib.pyplot as plt\n",
    "\n",
    "plt.matshow(Patient.corr())\n",
    "plt.show()"
   ]
  },
  {
   "cell_type": "code",
   "execution_count": 15,
   "metadata": {},
   "outputs": [
    {
     "data": {
      "text/plain": [
       "<matplotlib.axes._subplots.AxesSubplot at 0x11e57a320>"
      ]
     },
     "execution_count": 15,
     "metadata": {},
     "output_type": "execute_result"
    },
    {
     "data": {
      "image/png": "[encoded data removed]",
      "text/plain": [
       "<Figure size 432x288 with 1 Axes>"
      ]
     },
     "metadata": {
      "needs_background": "light"
     },
     "output_type": "display_data"
    }
   ],
   "source": [
    "Patient.plot(kind='line',y='BPSyst',color='blue',legend=None)"
   ]
  },
  {
   "cell_type": "code",
   "execution_count": 16,
   "metadata": {},
   "outputs": [],
   "source": [
    "training_set = Patient.iloc[:4000, 5:6].values"
   ]
  },
  {
   "cell_type": "code",
   "execution_count": 17,
   "metadata": {},
   "outputs": [
    {
     "name": "stdout",
     "output_type": "stream",
     "text": [
      "[[142.]\n",
      " [142.]\n",
      " [142.]\n",
      " ...\n",
      " [128.]\n",
      " [128.]\n",
      " [128.]]\n"
     ]
    }
   ],
   "source": [
    "print(training_set)"
   ]
  },
  {
   "cell_type": "code",
   "execution_count": 18,
   "metadata": {},
   "outputs": [],
   "source": [
    "import tensorflow as tf\n",
    "import tensorflow.keras as keras\n",
    "import tensorflow.keras.models as models"
   ]
  },
  {
   "cell_type": "code",
   "execution_count": 19,
   "metadata": {},
   "outputs": [],
   "source": [
    "from sklearn.preprocessing import MinMaxScaler\n",
    "sc = MinMaxScaler(feature_range = (0, 1))\n",
    "training_set_scaled = sc.fit_transform(training_set)"
   ]
  },
  {
   "cell_type": "code",
   "execution_count": 20,
   "metadata": {},
   "outputs": [],
   "source": [
    "X_train = []\n",
    "y_train = []\n",
    "for i in range(60, 4000):\n",
    "    X_train.append(training_set_scaled[i-60:i, 0])\n",
    "    y_train.append(training_set_scaled[i, 0])\n",
    "X_train, y_train = np.array(X_train), np.array(y_train)"
   ]
  },
  {
   "cell_type": "code",
   "execution_count": 21,
   "metadata": {},
   "outputs": [
    {
     "data": {
      "text/plain": [
       "(3940, 60)"
      ]
     },
     "execution_count": 21,
     "metadata": {},
     "output_type": "execute_result"
    }
   ],
   "source": [
    "X_train.shape"
   ]
  },
  {
   "cell_type": "code",
   "execution_count": 22,
   "metadata": {},
   "outputs": [],
   "source": [
    "# Reshaping\n",
    "X_train = np.reshape(X_train, (X_train.shape[0], X_train.shape[1], 1))"
   ]
  },
  {
   "cell_type": "code",
   "execution_count": 23,
   "metadata": {},
   "outputs": [],
   "source": [
    "# Importing the Keras libraries and packages\n",
    "from tensorflow.keras.models import Sequential\n",
    "from tensorflow.keras.layers import Dense\n",
    "from tensorflow.keras.layers import GRU"
   ]
  },
  {
   "cell_type": "code",
   "execution_count": 24,
   "metadata": {},
   "outputs": [],
   "source": [
    "# Initialising the RNN\n",
    "regressor = Sequential()"
   ]
  },
  {
   "cell_type": "code",
   "execution_count": 25,
   "metadata": {},
   "outputs": [],
   "source": [
    "# Adding the input layer and the LSTM layer\n",
    "regressor.add(GRU(units = 3, input_shape = (None, 1)))"
   ]
  },
  {
   "cell_type": "code",
   "execution_count": 26,
   "metadata": {},
   "outputs": [],
   "source": [
    "# Adding the output layer\n",
    "regressor.add(Dense(units = 1))"
   ]
  },
  {
   "cell_type": "code",
   "execution_count": 27,
   "metadata": {},
   "outputs": [],
   "source": [
    "#Compiling the RNN\n",
    "regressor.compile(optimizer = 'adam', loss = 'mean_squared_error')"
   ]
  },
  {
   "cell_type": "code",
   "execution_count": 28,
   "metadata": {},
   "outputs": [
    {
     "name": "stdout",
     "output_type": "stream",
     "text": [
      "Train on 3940 samples\n",
      "Epoch 1/10\n",
      "3940/3940 [==============================] - 6s 2ms/sample - loss: 0.1611\n",
      "Epoch 2/10\n",
      "3940/3940 [==============================] - 4s 1ms/sample - loss: 0.0383\n",
      "Epoch 3/10\n",
      "3940/3940 [==============================] - 4s 1ms/sample - loss: 0.0239\n",
      "Epoch 4/10\n",
      "3940/3940 [==============================] - 5s 1ms/sample - loss: 0.0115\n",
      "Epoch 5/10\n",
      "3940/3940 [==============================] - 4s 1ms/sample - loss: 0.0036\n",
      "Epoch 6/10\n",
      "3940/3940 [==============================] - 4s 1ms/sample - loss: 7.0737e-04\n",
      "Epoch 7/10\n",
      "3940/3940 [==============================] - 4s 1ms/sample - loss: 2.4437e-04\n",
      "Epoch 8/10\n",
      "3940/3940 [==============================] - 4s 909us/sample - loss: 2.1141e-04\n",
      "Epoch 9/10\n",
      "3940/3940 [==============================] - 3s 868us/sample - loss: 2.0809e-04\n",
      "Epoch 10/10\n",
      "3940/3940 [==============================] - 4s 956us/sample - loss: 2.0513e-04\n"
     ]
    }
   ],
   "source": [
    "# Fitting the RNN to the Training set\n",
    "history=regressor.fit(X_train, y_train, epochs = 10, batch_size = 32)"
   ]
  },
  {
   "cell_type": "code",
   "execution_count": 29,
   "metadata": {},
   "outputs": [],
   "source": [
    "test_set1 = Patient.iloc[4000:, 5:6].values\n",
    "#print(test_set1)"
   ]
  },
  {
   "cell_type": "code",
   "execution_count": 30,
   "metadata": {},
   "outputs": [],
   "source": [
    "# Getting the real blood pressure \n",
    "dataset_test = test_set1\n",
    "real_BPSyst = np.concatenate((training_set[0:4000], test_set1), axis = 0)"
   ]
  },
  {
   "cell_type": "code",
   "execution_count": 41,
   "metadata": {},
   "outputs": [],
   "source": [
    "scaled_real_BPSyst = sc.fit_transform(real_BPSyst)\n",
    "inputs = []\n",
    "for i in range(4000, 5057):\n",
    "    inputs.append(scaled_real_BPSyst[i-60:i, 0])\n",
    "inputs = np.array(inputs)\n",
    "inputs = np.reshape(inputs, (inputs.shape[0], inputs.shape[1], 1))\n",
    "predicted_BPSyst = regressor.predict(inputs)\n",
    "predicted_BPSyst = sc.inverse_transform(predicted_BPSyst)"
   ]
  },
  {
   "cell_type": "code",
   "execution_count": 42,
   "metadata": {},
   "outputs": [
    {
     "data": {
      "text/plain": [
       "(1057, 1)"
      ]
     },
     "execution_count": 42,
     "metadata": {},
     "output_type": "execute_result"
    }
   ],
   "source": [
    "predicted_BPSyst.shape"
   ]
  },
  {
   "cell_type": "code",
   "execution_count": 43,
   "metadata": {},
   "outputs": [
    {
     "data": {
      "image/png": "[encoded data removed]",
      "text/plain": [
       "<Figure size 432x288 with 1 Axes>"
      ]
     },
     "metadata": {
      "needs_background": "light"
     },
     "output_type": "display_data"
    }
   ],
   "source": [
    "# Visualising the results\n",
    "plt.plot(real_BPSyst[4800:], color = 'red', label = 'Real_BSP')\n",
    "plt.plot(predicted_BPSyst[800:], color = 'blue', label = 'Predicted_BSP')\n",
    "plt.title('BSP')\n",
    "plt.xlabel('Time')\n",
    "plt.ylabel('BSP')\n",
    "plt.legend()\n",
    "plt.show()"
   ]
  },
  {
   "cell_type": "code",
   "execution_count": 44,
   "metadata": {},
   "outputs": [
    {
     "data": {
      "text/plain": [
       "<function matplotlib.pyplot.show(*args, **kw)>"
      ]
     },
     "execution_count": 44,
     "metadata": {},
     "output_type": "execute_result"
    },
    {
     "data": {
      "image/png": "[encoded data removed]",
      "text/plain": [
       "<Figure size 432x288 with 1 Axes>"
      ]
     },
     "metadata": {
      "needs_background": "light"
     },
     "output_type": "display_data"
    }
   ],
   "source": [
    "plt.plot(history.history[\"loss\"])\n",
    "plt.show"
   ]
  },
  {
   "cell_type": "code",
   "execution_count": 45,
   "metadata": {},
   "outputs": [],
   "source": [
    "from math import sqrt\n",
    "from sklearn.metrics import mean_squared_error"
   ]
  },
  {
   "cell_type": "code",
   "execution_count": 52,
   "metadata": {},
   "outputs": [
    {
     "name": "stdout",
     "output_type": "stream",
     "text": [
      "Test RMSE:2.023\n"
     ]
    }
   ],
   "source": [
    "print(\"Test RMSE:%.3f\" %sqrt(mean_squared_error(test_set1,predicted_BPSyst)))"
   ]
  },
  {
   "cell_type": "code",
   "execution_count": 53,
   "metadata": {},
   "outputs": [
    {
     "name": "stdout",
     "output_type": "stream",
     "text": [
      "1.65%\n"
     ]
    }
   ],
   "source": [
    "print(str(round(sqrt(mean_squared_error(test_set1[:,0], predicted_BPSyst))/test_set1.mean()*100,2))+\"%\")"
   ]
  },
  {
   "cell_type": "code",
   "execution_count": null,
   "metadata": {},
   "outputs": [],
   "source": []
  }
 ],
 "metadata": {
  "kernelspec": {
   "display_name": "Python 3",
   "language": "python",
   "name": "python3"
  },
  "language_info": {
   "codemirror_mode": {
    "name": "ipython",
    "version": 3
   },
   "file_extension": ".py",
   "mimetype": "text/x-python",
   "name": "python",
   "nbconvert_exporter": "python",
   "pygments_lexer": "ipython3",
   "version": "3.7.3"
  }
 },
 "nbformat": 4,
 "nbformat_minor": 2
}
